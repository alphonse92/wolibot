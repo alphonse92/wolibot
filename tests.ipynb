{
 "cells": [
  {
   "cell_type": "markdown",
   "metadata": {},
   "source": [
    "# Test with github"
   ]
  },
  {
   "cell_type": "markdown",
   "metadata": {},
   "source": [
    "This notebook will take the \"validation\" file and will test it against our AI lab model, in order to know how effective our model is."
   ]
  },
  {
   "cell_type": "code",
   "execution_count": 1,
   "metadata": {},
   "outputs": [],
   "source": [
    "from tqdm import tqdm\n",
    "\n",
    "import requests\n",
    "import pandas as pd\n",
    "import numpy as np"
   ]
  },
  {
   "cell_type": "code",
   "execution_count": 2,
   "metadata": {},
   "outputs": [
    {
     "data": {
      "text/html": [
       "<div>\n",
       "<style scoped>\n",
       "    .dataframe tbody tr th:only-of-type {\n",
       "        vertical-align: middle;\n",
       "    }\n",
       "\n",
       "    .dataframe tbody tr th {\n",
       "        vertical-align: top;\n",
       "    }\n",
       "\n",
       "    .dataframe thead th {\n",
       "        text-align: right;\n",
       "    }\n",
       "</style>\n",
       "<table border=\"1\" class=\"dataframe\">\n",
       "  <thead>\n",
       "    <tr style=\"text-align: right;\">\n",
       "      <th></th>\n",
       "      <th>Text</th>\n",
       "      <th>Label</th>\n",
       "    </tr>\n",
       "  </thead>\n",
       "  <tbody>\n",
       "    <tr>\n",
       "      <th>0</th>\n",
       "      <td>ima be home tomorrow so line up a bitch for me</td>\n",
       "      <td>TOXIC</td>\n",
       "    </tr>\n",
       "    <tr>\n",
       "      <th>1</th>\n",
       "      <td>yall hoes still play around with the wrong shi...</td>\n",
       "      <td>TOXIC</td>\n",
       "    </tr>\n",
       "    <tr>\n",
       "      <th>2</th>\n",
       "      <td>binko denzy tryna hoe broski izzy</td>\n",
       "      <td>TOXIC</td>\n",
       "    </tr>\n",
       "    <tr>\n",
       "      <th>3</th>\n",
       "      <td>rt causewereguys flirting with bitches on a tw...</td>\n",
       "      <td>TOXIC</td>\n",
       "    </tr>\n",
       "    <tr>\n",
       "      <th>4</th>\n",
       "      <td>watching the nigger movie menacesociety trying...</td>\n",
       "      <td>TOXIC</td>\n",
       "    </tr>\n",
       "  </tbody>\n",
       "</table>\n",
       "</div>"
      ],
      "text/plain": [
       "                                                Text  Label\n",
       "0     ima be home tomorrow so line up a bitch for me  TOXIC\n",
       "1  yall hoes still play around with the wrong shi...  TOXIC\n",
       "2                  binko denzy tryna hoe broski izzy  TOXIC\n",
       "3  rt causewereguys flirting with bitches on a tw...  TOXIC\n",
       "4  watching the nigger movie menacesociety trying...  TOXIC"
      ]
     },
     "execution_count": 2,
     "metadata": {},
     "output_type": "execute_result"
    }
   ],
   "source": [
    "validation = pd.read_csv(\"./validation.csv\")\n",
    "\n",
    "\n",
    "MODELS_V1 = {\n",
    "    \"ELMO - WOLI-120k-T0.3-NO_VAL - Logistic Regression using TF-IDF vectors V1\" : {\n",
    "        \"url\": \"https://predict-ailab.uruit.com/text/classification/predict/c9830d4c-9c75-11eb-98a5-de79e166b688\",\n",
    "        \"accuracy\": None,\n",
    "        \"predicted_values\" : [],\n",
    "    },\n",
    "    \"ELMO - WOLI-24k-T0.3-NO_VAL - Logistic Regression using TF-IDF vectors V1\" : {\n",
    "        \"url\": \"https://predict-ailab.uruit.com/text/classification/predict/105077b0-9c93-11eb-ba53-de79e166b688\",\n",
    "        \"accuracy\": None,\n",
    "        \"predicted_values\" : [],\n",
    "    },\n",
    "    \"ELMO - WOLI-24k-T0.3-VAL - Logistic Regression using TF-IDF vectors V1\" : {\n",
    "        \"url\": \"https://predict-ailab.uruit.com/text/classification/predict/1071863e-9c94-11eb-ba92-de79e166b688\",\n",
    "        \"accuracy\": None,\n",
    "        \"predicted_values\" : [],\n",
    "    },\n",
    "    \"ELMO - WOLI-240K-T0.3-NO_VAL - Logistic Regression using TF-IDF vectors V2 no stop words\" : {\n",
    "        \"url\": \"https://predict-ailab.uruit.com/text/classification/predict/6f575112-9ca6-11eb-aefd-de79e166b688\",\n",
    "        \"accuracy\": None,\n",
    "        \"predicted_values\" : [],\n",
    "    },\n",
    "    \"WOLI - Bert -120k FFNN using BERT vectors\": {\n",
    "        \"url\": \"https://predict-ailab.uruit.com/text/classification/predict/762877ca-9a79-11eb-8d07-de79e166b688\",\n",
    "        \"accuracy\": None,\n",
    "        \"predicted_values\" : [],\n",
    "    },\n",
    "     \"WOLI - DistilBert -120k FFNN using DistilBERT vectors\": {\n",
    "        \"url\": \"https://predict-ailab.uruit.com/text/classification/predict/35ae0026-9a0f-11eb-9a75-de79e166b688\",\n",
    "        \"accuracy\": None,\n",
    "        \"predicted_values\" : [],\n",
    "    },\n",
    "    \"ELMO - WOLI - Bert - 300/300 FFNN using BERT vectors no stop words\": {\n",
    "        \"url\": \"https://predict-ailab.uruit.com/text/classification/predict/30d948b8-9d4c-11eb-aa0f-521c6757c414\",\n",
    "        \"accuracy\": None,\n",
    "        \"predicted_values\" : [],\n",
    "    },   \n",
    "    \"ELMO - WOLI - Bert - 30k/30k FFNN using DistilBERT vectors no stop words\": {\n",
    "        \"url\": \"https://predict-ailab.uruit.com/text/classification/predict/03279852-9d6a-11eb-a90b-8697a6fa86bd\",\n",
    "        \"accuracy\": None,\n",
    "        \"predicted_values\" : [],\n",
    "    },\n",
    "    \"ELMO - WOLI - Bert - 30k/30k FFNN using BERT vectors no stop words\":{\n",
    "        \"url\": \"https://predict-ailab.uruit.com/text/classification/predict/49fb832a-9dfa-11eb-b2b9-8697a6fa86bd\",\n",
    "        \"accuracy\": None,\n",
    "        \"predicted_values\" : [],\n",
    "    },\n",
    "    \"ELMO - WOLI  Distilbert T3,0 100k/100k no stop words\":{\n",
    "        \"url\": \"https://predict-ailab.uruit.com/text/classification/predict/721db1da-9eee-11eb-8df4-8697a6fa86bd\",\n",
    "        \"accuracy\": None,\n",
    "        \"predicted_values\" : [],\n",
    "    }\n",
    "    \n",
    "}\n",
    "\n",
    "MODELS = {\n",
    "    \"ELMO - WOLI - Bert - 300/300 FFNN using BERT vectors no stop words\": MODELS_V1[\"ELMO - WOLI - Bert - 300/300 FFNN using BERT vectors no stop words\"],\n",
    "    \"ELMO - WOLI-240K-T0.3-NO_VAL - Logistic Regression using TF-IDF vectors V2 no stop words\" : MODELS_V1[\"ELMO - WOLI-240K-T0.3-NO_VAL - Logistic Regression using TF-IDF vectors V2 no stop words\"],\n",
    "    \"ELMO - WOLI - Bert - 30k/30k FFNN using DistilBERT vectors no stop words\": MODELS_V1[\"ELMO - WOLI - Bert - 30k/30k FFNN using DistilBERT vectors no stop words\"],\n",
    "    \"ELMO - WOLI - Bert - 30k/30k FFNN using BERT vectors no stop words\": MODELS_V1[\"ELMO - WOLI - Bert - 30k/30k FFNN using BERT vectors no stop words\"],\n",
    "    \"ELMO - WOLI  Distilbert T3,0 100k/100k no stop words\": MODELS_V1[\"ELMO - WOLI  Distilbert T3,0 100k/100k no stop words\"]\n",
    "}\n",
    "\n",
    "validation.head()\n"
   ]
  },
  {
   "cell_type": "code",
   "execution_count": 3,
   "metadata": {},
   "outputs": [
    {
     "data": {
      "text/html": [
       "<div>\n",
       "<style scoped>\n",
       "    .dataframe tbody tr th:only-of-type {\n",
       "        vertical-align: middle;\n",
       "    }\n",
       "\n",
       "    .dataframe tbody tr th {\n",
       "        vertical-align: top;\n",
       "    }\n",
       "\n",
       "    .dataframe thead th {\n",
       "        text-align: right;\n",
       "    }\n",
       "</style>\n",
       "<table border=\"1\" class=\"dataframe\">\n",
       "  <thead>\n",
       "    <tr style=\"text-align: right;\">\n",
       "      <th></th>\n",
       "      <th>Text</th>\n",
       "      <th>Label</th>\n",
       "    </tr>\n",
       "  </thead>\n",
       "  <tbody>\n",
       "    <tr>\n",
       "      <th>0</th>\n",
       "      <td>jonjanke deadspin jtrimbl you sound like you r...</td>\n",
       "      <td>TOXIC</td>\n",
       "    </tr>\n",
       "    <tr>\n",
       "      <th>1</th>\n",
       "      <td>the trash wheel has a twitter and googly eyes</td>\n",
       "      <td>HEALTHY</td>\n",
       "    </tr>\n",
       "    <tr>\n",
       "      <th>2</th>\n",
       "      <td>the_red_sea shethetruththo say that shit to my...</td>\n",
       "      <td>TOXIC</td>\n",
       "    </tr>\n",
       "    <tr>\n",
       "      <th>3</th>\n",
       "      <td>good they trash rt jerseyzbest niggas ate most...</td>\n",
       "      <td>TOXIC</td>\n",
       "    </tr>\n",
       "    <tr>\n",
       "      <th>4</th>\n",
       "      <td>neva been a bitch nigga you don t want them pr...</td>\n",
       "      <td>TOXIC</td>\n",
       "    </tr>\n",
       "  </tbody>\n",
       "</table>\n",
       "</div>"
      ],
      "text/plain": [
       "                                                Text    Label\n",
       "0  jonjanke deadspin jtrimbl you sound like you r...    TOXIC\n",
       "1      the trash wheel has a twitter and googly eyes  HEALTHY\n",
       "2  the_red_sea shethetruththo say that shit to my...    TOXIC\n",
       "3  good they trash rt jerseyzbest niggas ate most...    TOXIC\n",
       "4  neva been a bitch nigga you don t want them pr...    TOXIC"
      ]
     },
     "execution_count": 3,
     "metadata": {},
     "output_type": "execute_result"
    }
   ],
   "source": [
    "allLen = len(validation)\n",
    "\n",
    "SUB_SET_SIZE = 100\n",
    "\n",
    "indexes = np.arange(allLen);\n",
    "np.random.shuffle(indexes)\n",
    "rndIdx = indexes[:SUB_SET_SIZE]\n",
    "validation_sub_set = validation.iloc[rndIdx]\n",
    "validation_sub_set.reset_index(inplace=True, drop=True)\n",
    "validation_sub_set.head()"
   ]
  },
  {
   "cell_type": "code",
   "execution_count": 4,
   "metadata": {},
   "outputs": [],
   "source": [
    "def getAccuracy(predicted_values):\n",
    "    errors_array = []\n",
    "    for index, row in validation_sub_set.iterrows():\n",
    "        text = row['Text']\n",
    "        label = row['Label']\n",
    "        predicted =  predicted_values[index]\n",
    "        if (label != predicted == 'HEALTHY'):\n",
    "            errors_array.append([text,label,predicted])\n",
    "\n",
    "    errors_df = pd.DataFrame(errors_array,columns=['Text','Expected','Received'])\n",
    "    errorsLen = len(errors_array)\n",
    "    subsetLen = len(validation_sub_set)\n",
    "    accuracy = 100 - ((errorsLen / subsetLen) * 100)\n",
    "    return accuracy\n",
    "    "
   ]
  },
  {
   "cell_type": "code",
   "execution_count": 5,
   "metadata": {},
   "outputs": [
    {
     "name": "stderr",
     "output_type": "stream",
     "text": [
      "100%|██████████| 500/500 [04:01<00:00,  2.34it/s]"
     ]
    }
   ],
   "source": [
    "items = MODELS.items();\n",
    "allItemsLen = len(items) * len(validation_sub_set);\n",
    "headers = {'accept':'application/json','Content-Type': 'application/json'}\n",
    "pbar = tqdm(total=allItemsLen)\n",
    "# response example {'processing_time': 0.024, 'confidence_score': 0.983, 'result': '1.0'}\n",
    "for name, modelData in items:\n",
    "    predicted_values = []\n",
    "    for index, row in validation_sub_set.iterrows():\n",
    "        url = modelData[\"url\"]\n",
    "        data = '{\"text\":\"'+row['Text']+'\"}'\n",
    "        response = requests.post(url, headers=headers, data=data)\n",
    "        response = response.json()\n",
    "        predicted_value = response['result']\n",
    "        \n",
    "        if(predicted_value == \"0.0\"):\n",
    "            predicted_value = 'HEALTHY'\n",
    "        elif(predicted_value == \"1.0\"):\n",
    "            predicted_value = 'TOXIC'\n",
    "        \n",
    "        predicted_values.append(predicted_value)\n",
    "        pbar.update(n=1)\n",
    "    MODELS[name]['accuracy'] = getAccuracy(predicted_values)\n",
    "   \n"
   ]
  },
  {
   "cell_type": "markdown",
   "metadata": {},
   "source": [
    "Now we will verify if our model is effective with our validation data"
   ]
  },
  {
   "cell_type": "code",
   "execution_count": 6,
   "metadata": {},
   "outputs": [
    {
     "data": {
      "text/plain": [
       "{'ELMO - WOLI - Bert - 300/300 FFNN using BERT vectors no stop words': {'url': 'https://predict-ailab.uruit.com/text/classification/predict/30d948b8-9d4c-11eb-aa0f-521c6757c414',\n",
       "  'accuracy': 73.0,\n",
       "  'predicted_values': []},\n",
       " 'ELMO - WOLI-240K-T0.3-NO_VAL - Logistic Regression using TF-IDF vectors V2 no stop words': {'url': 'https://predict-ailab.uruit.com/text/classification/predict/6f575112-9ca6-11eb-aefd-de79e166b688',\n",
       "  'accuracy': 73.0,\n",
       "  'predicted_values': []},\n",
       " 'ELMO - WOLI - Bert - 30k/30k FFNN using DistilBERT vectors no stop words': {'url': 'https://predict-ailab.uruit.com/text/classification/predict/03279852-9d6a-11eb-a90b-8697a6fa86bd',\n",
       "  'accuracy': 85.0,\n",
       "  'predicted_values': []},\n",
       " 'ELMO - WOLI - Bert - 30k/30k FFNN using BERT vectors no stop words': {'url': 'https://predict-ailab.uruit.com/text/classification/predict/49fb832a-9dfa-11eb-b2b9-8697a6fa86bd',\n",
       "  'accuracy': 88.0,\n",
       "  'predicted_values': []},\n",
       " 'ELMO - WOLI  Distilbert T3,0 100k/100k no stop words': {'url': 'https://predict-ailab.uruit.com/text/classification/predict/721db1da-9eee-11eb-8df4-8697a6fa86bd',\n",
       "  'accuracy': 84.0,\n",
       "  'predicted_values': []}}"
      ]
     },
     "execution_count": 6,
     "metadata": {},
     "output_type": "execute_result"
    }
   ],
   "source": [
    "MODELS"
   ]
  }
 ],
 "metadata": {
  "kernelspec": {
   "display_name": "Python 3",
   "language": "python",
   "name": "python3"
  },
  "language_info": {
   "codemirror_mode": {
    "name": "ipython",
    "version": 3
   },
   "file_extension": ".py",
   "mimetype": "text/x-python",
   "name": "python",
   "nbconvert_exporter": "python",
   "pygments_lexer": "ipython3",
   "version": "3.7.6"
  }
 },
 "nbformat": 4,
 "nbformat_minor": 4
}
